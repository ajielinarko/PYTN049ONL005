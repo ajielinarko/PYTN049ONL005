{
  "nbformat": 4,
  "nbformat_minor": 0,
  "metadata": {
    "colab": {
      "name": "Untitled2.ipynb",
      "provenance": [],
      "collapsed_sections": []
    },
    "kernelspec": {
      "name": "python3",
      "display_name": "Python 3"
    }
  },
  "cells": [
    {
      "cell_type": "code",
      "metadata": {
        "id": "oG_FAoCfF8iX"
      },
      "source": [
        "#Import pustaka yang dibutuhkan\r\n",
        "import numpy as np\r\n",
        "import pandas as pd\r\n",
        "import re\r\n",
        "import matplotlib.pyplot as plt\r\n",
        "import seaborn as sns\r\n",
        "from sklearn.model_selection import train_test_split\r\n",
        "from sklearn.model_selection import StratifiedShuffleSplit\r\n",
        "from sklearn.metrics import accuracy_score, log_loss\r\n",
        "from sklearn.neighbors import KNeighborsClassifier\r\n",
        "from sklearn.svm import SVC\r\n",
        "from sklearn.tree import DecisionTreeClassifier\r\n",
        "from sklearn.ensemble import RandomForestClassifier, AdaBoostClassifier, GradientBoostingClassifier\r\n",
        "from sklearn.naive_bayes import GaussianNB\r\n",
        "from sklearn.discriminant_analysis import LinearDiscriminantAnalysis, QuadraticDiscriminantAnalysis\r\n",
        "from sklearn.linear_model import LogisticRegression\r\n",
        "from sklearn.model_selection import GridSearchCV\r\n",
        "\r\n",
        "#warning\r\n",
        "from warnings import filterwarnings\r\n",
        "filterwarnings('ignore')"
      ],
      "execution_count": 27,
      "outputs": []
    },
    {
      "cell_type": "code",
      "metadata": {
        "colab": {
          "base_uri": "https://localhost:8080/",
          "height": 289
        },
        "id": "z-4Hg31nGBu9",
        "outputId": "1d378041-d157-4362-8246-70d5caa9eb64"
      },
      "source": [
        "#Data Loading & Exploratory Data Analysis\r\n",
        "df = pd.read_csv('/content/titanic.csv')\r\n",
        "df_test = pd.read_csv('/content/titanic_test.csv')\r\n",
        "df_full = [df, df_test]\r\n",
        "\r\n",
        "df.head()"
      ],
      "execution_count": 28,
      "outputs": [
        {
          "output_type": "execute_result",
          "data": {
            "text/html": [
              "<div>\n",
              "<style scoped>\n",
              "    .dataframe tbody tr th:only-of-type {\n",
              "        vertical-align: middle;\n",
              "    }\n",
              "\n",
              "    .dataframe tbody tr th {\n",
              "        vertical-align: top;\n",
              "    }\n",
              "\n",
              "    .dataframe thead th {\n",
              "        text-align: right;\n",
              "    }\n",
              "</style>\n",
              "<table border=\"1\" class=\"dataframe\">\n",
              "  <thead>\n",
              "    <tr style=\"text-align: right;\">\n",
              "      <th></th>\n",
              "      <th>PassengerId</th>\n",
              "      <th>Survived</th>\n",
              "      <th>Pclass</th>\n",
              "      <th>Name</th>\n",
              "      <th>Sex</th>\n",
              "      <th>Age</th>\n",
              "      <th>SibSp</th>\n",
              "      <th>Parch</th>\n",
              "      <th>Ticket</th>\n",
              "      <th>Fare</th>\n",
              "      <th>Cabin</th>\n",
              "      <th>Embarked</th>\n",
              "    </tr>\n",
              "  </thead>\n",
              "  <tbody>\n",
              "    <tr>\n",
              "      <th>0</th>\n",
              "      <td>1,0,3,\"Braund, Mr. Owen Harris\",male,22,1,0,A/...</td>\n",
              "      <td>NaN</td>\n",
              "      <td>NaN</td>\n",
              "      <td>NaN</td>\n",
              "      <td>NaN</td>\n",
              "      <td>NaN</td>\n",
              "      <td>NaN</td>\n",
              "      <td>NaN</td>\n",
              "      <td>NaN</td>\n",
              "      <td>NaN</td>\n",
              "      <td>NaN</td>\n",
              "      <td>NaN</td>\n",
              "    </tr>\n",
              "    <tr>\n",
              "      <th>1</th>\n",
              "      <td>2,1,1,\"Cumings, Mrs. John Bradley (Florence Br...</td>\n",
              "      <td>NaN</td>\n",
              "      <td>NaN</td>\n",
              "      <td>NaN</td>\n",
              "      <td>NaN</td>\n",
              "      <td>NaN</td>\n",
              "      <td>NaN</td>\n",
              "      <td>NaN</td>\n",
              "      <td>NaN</td>\n",
              "      <td>NaN</td>\n",
              "      <td>NaN</td>\n",
              "      <td>NaN</td>\n",
              "    </tr>\n",
              "    <tr>\n",
              "      <th>2</th>\n",
              "      <td>3,1,3,\"Heikkinen, Miss. Laina\",female,26,0,0,S...</td>\n",
              "      <td>NaN</td>\n",
              "      <td>NaN</td>\n",
              "      <td>NaN</td>\n",
              "      <td>NaN</td>\n",
              "      <td>NaN</td>\n",
              "      <td>NaN</td>\n",
              "      <td>NaN</td>\n",
              "      <td>NaN</td>\n",
              "      <td>NaN</td>\n",
              "      <td>NaN</td>\n",
              "      <td>NaN</td>\n",
              "    </tr>\n",
              "    <tr>\n",
              "      <th>3</th>\n",
              "      <td>4,1,1,\"Futrelle, Mrs. Jacques Heath (Lily May ...</td>\n",
              "      <td>NaN</td>\n",
              "      <td>NaN</td>\n",
              "      <td>NaN</td>\n",
              "      <td>NaN</td>\n",
              "      <td>NaN</td>\n",
              "      <td>NaN</td>\n",
              "      <td>NaN</td>\n",
              "      <td>NaN</td>\n",
              "      <td>NaN</td>\n",
              "      <td>NaN</td>\n",
              "      <td>NaN</td>\n",
              "    </tr>\n",
              "    <tr>\n",
              "      <th>4</th>\n",
              "      <td>5,0,3,\"Allen, Mr. William Henry\",male,35,0,0,3...</td>\n",
              "      <td>NaN</td>\n",
              "      <td>NaN</td>\n",
              "      <td>NaN</td>\n",
              "      <td>NaN</td>\n",
              "      <td>NaN</td>\n",
              "      <td>NaN</td>\n",
              "      <td>NaN</td>\n",
              "      <td>NaN</td>\n",
              "      <td>NaN</td>\n",
              "      <td>NaN</td>\n",
              "      <td>NaN</td>\n",
              "    </tr>\n",
              "  </tbody>\n",
              "</table>\n",
              "</div>"
            ],
            "text/plain": [
              "                                         PassengerId  Survived  ...  Cabin  Embarked\n",
              "0  1,0,3,\"Braund, Mr. Owen Harris\",male,22,1,0,A/...       NaN  ...    NaN       NaN\n",
              "1  2,1,1,\"Cumings, Mrs. John Bradley (Florence Br...       NaN  ...    NaN       NaN\n",
              "2  3,1,3,\"Heikkinen, Miss. Laina\",female,26,0,0,S...       NaN  ...    NaN       NaN\n",
              "3  4,1,1,\"Futrelle, Mrs. Jacques Heath (Lily May ...       NaN  ...    NaN       NaN\n",
              "4  5,0,3,\"Allen, Mr. William Henry\",male,35,0,0,3...       NaN  ...    NaN       NaN\n",
              "\n",
              "[5 rows x 12 columns]"
            ]
          },
          "metadata": {
            "tags": []
          },
          "execution_count": 28
        }
      ]
    },
    {
      "cell_type": "code",
      "metadata": {
        "colab": {
          "base_uri": "https://localhost:8080/",
          "height": 319
        },
        "id": "m_sdkRM2Hec1",
        "outputId": "fdd661e0-f37b-45bb-a062-e797d19ea8a9"
      },
      "source": [
        "sns.distplot(df['Age'])\r\n",
        "plt.xlabel(\"Age\", fontsize=15)\r\n",
        "plt.ylabel('Count', fontsize=15)\r\n",
        "plt.title('Age distribution', fontsize=15)"
      ],
      "execution_count": 29,
      "outputs": [
        {
          "output_type": "execute_result",
          "data": {
            "text/plain": [
              "Text(0.5, 1.0, 'Age distribution')"
            ]
          },
          "metadata": {
            "tags": []
          },
          "execution_count": 29
        },
        {
          "output_type": "display_data",
          "data": {
            "image/png": "[encoded data removed]",
            "text/plain": [
              "<Figure size 432x288 with 1 Axes>"
            ]
          },
          "metadata": {
            "tags": [],
            "needs_background": "light"
          }
        }
      ]
    },
    {
      "cell_type": "code",
      "metadata": {
        "id": "9qO9SXaYNCZI"
      },
      "source": [
        "sns.distplot(df['Pclass'])\r\n",
        "plt.xlabel(\"Pclass\", fontsize=15)\r\n",
        "plt.ylabel('Count', fontsize=15)\r\n",
        "plt.title('Class distribution', fontsize=15)"
      ],
      "execution_count": null,
      "outputs": []
    },
    {
      "cell_type": "code",
      "metadata": {
        "id": "pUqnOF8dNKyV"
      },
      "source": [
        "sns.distplot(df['Fare'])\r\n",
        "plt.xlabel(\"Fare\", fontsize=15)\r\n",
        "plt.ylabel('Count', fontsize=15)\r\n",
        "plt.title('Fare distribution', fontsize=15)"
      ],
      "execution_count": null,
      "outputs": []
    },
    {
      "cell_type": "code",
      "metadata": {
        "colab": {
          "base_uri": "https://localhost:8080/"
        },
        "id": "u2aO2ZX2NNv-",
        "outputId": "0c1fd8de-4b39-463c-d06b-59bbfcced89b"
      },
      "source": [
        "df_test['Embarked'].mode()"
      ],
      "execution_count": 31,
      "outputs": [
        {
          "output_type": "execute_result",
          "data": {
            "text/plain": [
              "Series([], dtype: float64)"
            ]
          },
          "metadata": {
            "tags": []
          },
          "execution_count": 31
        }
      ]
    },
    {
      "cell_type": "code",
      "metadata": {
        "colab": {
          "base_uri": "https://localhost:8080/"
        },
        "id": "qDXXpsQLNQRQ",
        "outputId": "9c126784-f425-48dc-f984-cc11d3b6f001"
      },
      "source": [
        "df.info()"
      ],
      "execution_count": 30,
      "outputs": [
        {
          "output_type": "stream",
          "text": [
            "<class 'pandas.core.frame.DataFrame'>\n",
            "RangeIndex: 891 entries, 0 to 890\n",
            "Data columns (total 12 columns):\n",
            " #   Column       Non-Null Count  Dtype  \n",
            "---  ------       --------------  -----  \n",
            " 0   PassengerId  891 non-null    object \n",
            " 1   Survived     0 non-null      float64\n",
            " 2   Pclass       0 non-null      float64\n",
            " 3   Name         0 non-null      float64\n",
            " 4   Sex          0 non-null      float64\n",
            " 5   Age          0 non-null      float64\n",
            " 6   SibSp        0 non-null      float64\n",
            " 7   Parch        0 non-null      float64\n",
            " 8   Ticket       0 non-null      float64\n",
            " 9   Fare         0 non-null      float64\n",
            " 10  Cabin        0 non-null      float64\n",
            " 11  Embarked     0 non-null      float64\n",
            "dtypes: float64(11), object(1)\n",
            "memory usage: 83.7+ KB\n"
          ],
          "name": "stdout"
        }
      ]
    },
    {
      "cell_type": "code",
      "metadata": {
        "colab": {
          "base_uri": "https://localhost:8080/",
          "height": 717
        },
        "id": "dfGQjiEKNS50",
        "outputId": "9d9f34c0-5707-48bd-b23d-a4717422a20b"
      },
      "source": [
        "#Explore each column\r\n",
        "#Pclass\r\n",
        "print(df[['Pclass', 'Survived']].groupby(['Pclass'], as_index=False).mean())\r\n",
        "ax = (df[['Pclass', 'Survived']].groupby(['Pclass'], as_index=True).mean()).plot.bar(\r\n",
        "    title = 'Survived by Class')\r\n",
        "\r\n",
        "ax.set_ylabel('%')\r\n",
        "ax.set_xlabel('Class')"
      ],
      "execution_count": 32,
      "outputs": [
        {
          "output_type": "stream",
          "text": [
            "Empty DataFrame\n",
            "Columns: [Pclass, Survived]\n",
            "Index: []\n"
          ],
          "name": "stdout"
        },
        {
          "output_type": "error",
          "ename": "IndexError",
          "evalue": "ignored",
          "traceback": [
            "\u001b[0;31m---------------------------------------------------------------------------\u001b[0m",
            "\u001b[0;31mIndexError\u001b[0m                                Traceback (most recent call last)",
            "\u001b[0;32m<ipython-input-32-129d7ee57419>\u001b[0m in \u001b[0;36m<module>\u001b[0;34m()\u001b[0m\n\u001b[1;32m      3\u001b[0m \u001b[0mprint\u001b[0m\u001b[0;34m(\u001b[0m\u001b[0mdf\u001b[0m\u001b[0;34m[\u001b[0m\u001b[0;34m[\u001b[0m\u001b[0;34m'Pclass'\u001b[0m\u001b[0;34m,\u001b[0m \u001b[0;34m'Survived'\u001b[0m\u001b[0;34m]\u001b[0m\u001b[0;34m]\u001b[0m\u001b[0;34m.\u001b[0m\u001b[0mgroupby\u001b[0m\u001b[0;34m(\u001b[0m\u001b[0;34m[\u001b[0m\u001b[0;34m'Pclass'\u001b[0m\u001b[0;34m]\u001b[0m\u001b[0;34m,\u001b[0m \u001b[0mas_index\u001b[0m\u001b[0;34m=\u001b[0m\u001b[0;32mFalse\u001b[0m\u001b[0;34m)\u001b[0m\u001b[0;34m.\u001b[0m\u001b[0mmean\u001b[0m\u001b[0;34m(\u001b[0m\u001b[0;34m)\u001b[0m\u001b[0;34m)\u001b[0m\u001b[0;34m\u001b[0m\u001b[0;34m\u001b[0m\u001b[0m\n\u001b[1;32m      4\u001b[0m ax = (df[['Pclass', 'Survived']].groupby(['Pclass'], as_index=True).mean()).plot.bar(\n\u001b[0;32m----> 5\u001b[0;31m     title = 'Survived by Class')\n\u001b[0m\u001b[1;32m      6\u001b[0m \u001b[0;34m\u001b[0m\u001b[0m\n\u001b[1;32m      7\u001b[0m \u001b[0max\u001b[0m\u001b[0;34m.\u001b[0m\u001b[0mset_ylabel\u001b[0m\u001b[0;34m(\u001b[0m\u001b[0;34m'%'\u001b[0m\u001b[0;34m)\u001b[0m\u001b[0;34m\u001b[0m\u001b[0;34m\u001b[0m\u001b[0m\n",
            "\u001b[0;32m/usr/local/lib/python3.6/dist-packages/pandas/plotting/_core.py\u001b[0m in \u001b[0;36mbar\u001b[0;34m(self, x, y, **kwargs)\u001b[0m\n\u001b[1;32m   1105\u001b[0m         \u001b[0mother\u001b[0m \u001b[0maxis\u001b[0m \u001b[0mrepresents\u001b[0m \u001b[0ma\u001b[0m \u001b[0mmeasured\u001b[0m \u001b[0mvalue\u001b[0m\u001b[0;34m.\u001b[0m\u001b[0;34m\u001b[0m\u001b[0;34m\u001b[0m\u001b[0m\n\u001b[1;32m   1106\u001b[0m         \"\"\"\n\u001b[0;32m-> 1107\u001b[0;31m         \u001b[0;32mreturn\u001b[0m \u001b[0mself\u001b[0m\u001b[0;34m(\u001b[0m\u001b[0mkind\u001b[0m\u001b[0;34m=\u001b[0m\u001b[0;34m\"bar\"\u001b[0m\u001b[0;34m,\u001b[0m \u001b[0mx\u001b[0m\u001b[0;34m=\u001b[0m\u001b[0mx\u001b[0m\u001b[0;34m,\u001b[0m \u001b[0my\u001b[0m\u001b[0;34m=\u001b[0m\u001b[0my\u001b[0m\u001b[0;34m,\u001b[0m \u001b[0;34m**\u001b[0m\u001b[0mkwargs\u001b[0m\u001b[0;34m)\u001b[0m\u001b[0;34m\u001b[0m\u001b[0;34m\u001b[0m\u001b[0m\n\u001b[0m\u001b[1;32m   1108\u001b[0m \u001b[0;34m\u001b[0m\u001b[0m\n\u001b[1;32m   1109\u001b[0m     @Appender(\n",
            "\u001b[0;32m/usr/local/lib/python3.6/dist-packages/pandas/plotting/_core.py\u001b[0m in \u001b[0;36m__call__\u001b[0;34m(self, *args, **kwargs)\u001b[0m\n\u001b[1;32m    947\u001b[0m                     \u001b[0mdata\u001b[0m\u001b[0;34m.\u001b[0m\u001b[0mcolumns\u001b[0m \u001b[0;34m=\u001b[0m \u001b[0mlabel_name\u001b[0m\u001b[0;34m\u001b[0m\u001b[0;34m\u001b[0m\u001b[0m\n\u001b[1;32m    948\u001b[0m \u001b[0;34m\u001b[0m\u001b[0m\n\u001b[0;32m--> 949\u001b[0;31m         \u001b[0;32mreturn\u001b[0m \u001b[0mplot_backend\u001b[0m\u001b[0;34m.\u001b[0m\u001b[0mplot\u001b[0m\u001b[0;34m(\u001b[0m\u001b[0mdata\u001b[0m\u001b[0;34m,\u001b[0m \u001b[0mkind\u001b[0m\u001b[0;34m=\u001b[0m\u001b[0mkind\u001b[0m\u001b[0;34m,\u001b[0m \u001b[0;34m**\u001b[0m\u001b[0mkwargs\u001b[0m\u001b[0;34m)\u001b[0m\u001b[0;34m\u001b[0m\u001b[0;34m\u001b[0m\u001b[0m\n\u001b[0m\u001b[1;32m    950\u001b[0m \u001b[0;34m\u001b[0m\u001b[0m\n\u001b[1;32m    951\u001b[0m     \u001b[0m__call__\u001b[0m\u001b[0;34m.\u001b[0m\u001b[0m__doc__\u001b[0m \u001b[0;34m=\u001b[0m \u001b[0m__doc__\u001b[0m\u001b[0;34m\u001b[0m\u001b[0;34m\u001b[0m\u001b[0m\n",
            "\u001b[0;32m/usr/local/lib/python3.6/dist-packages/pandas/plotting/_matplotlib/__init__.py\u001b[0m in \u001b[0;36mplot\u001b[0;34m(data, kind, **kwargs)\u001b[0m\n\u001b[1;32m     59\u001b[0m             \u001b[0mkwargs\u001b[0m\u001b[0;34m[\u001b[0m\u001b[0;34m\"ax\"\u001b[0m\u001b[0;34m]\u001b[0m \u001b[0;34m=\u001b[0m \u001b[0mgetattr\u001b[0m\u001b[0;34m(\u001b[0m\u001b[0max\u001b[0m\u001b[0;34m,\u001b[0m \u001b[0;34m\"left_ax\"\u001b[0m\u001b[0;34m,\u001b[0m \u001b[0max\u001b[0m\u001b[0;34m)\u001b[0m\u001b[0;34m\u001b[0m\u001b[0;34m\u001b[0m\u001b[0m\n\u001b[1;32m     60\u001b[0m     \u001b[0mplot_obj\u001b[0m \u001b[0;34m=\u001b[0m \u001b[0mPLOT_CLASSES\u001b[0m\u001b[0;34m[\u001b[0m\u001b[0mkind\u001b[0m\u001b[0;34m]\u001b[0m\u001b[0;34m(\u001b[0m\u001b[0mdata\u001b[0m\u001b[0;34m,\u001b[0m \u001b[0;34m**\u001b[0m\u001b[0mkwargs\u001b[0m\u001b[0;34m)\u001b[0m\u001b[0;34m\u001b[0m\u001b[0;34m\u001b[0m\u001b[0m\n\u001b[0;32m---> 61\u001b[0;31m     \u001b[0mplot_obj\u001b[0m\u001b[0;34m.\u001b[0m\u001b[0mgenerate\u001b[0m\u001b[0;34m(\u001b[0m\u001b[0;34m)\u001b[0m\u001b[0;34m\u001b[0m\u001b[0;34m\u001b[0m\u001b[0m\n\u001b[0m\u001b[1;32m     62\u001b[0m     \u001b[0mplot_obj\u001b[0m\u001b[0;34m.\u001b[0m\u001b[0mdraw\u001b[0m\u001b[0;34m(\u001b[0m\u001b[0;34m)\u001b[0m\u001b[0;34m\u001b[0m\u001b[0;34m\u001b[0m\u001b[0m\n\u001b[1;32m     63\u001b[0m     \u001b[0;32mreturn\u001b[0m \u001b[0mplot_obj\u001b[0m\u001b[0;34m.\u001b[0m\u001b[0mresult\u001b[0m\u001b[0;34m\u001b[0m\u001b[0;34m\u001b[0m\u001b[0m\n",
            "\u001b[0;32m/usr/local/lib/python3.6/dist-packages/pandas/plotting/_matplotlib/core.py\u001b[0m in \u001b[0;36mgenerate\u001b[0;34m(self)\u001b[0m\n\u001b[1;32m    276\u001b[0m         \u001b[0;32mfor\u001b[0m \u001b[0max\u001b[0m \u001b[0;32min\u001b[0m \u001b[0mself\u001b[0m\u001b[0;34m.\u001b[0m\u001b[0maxes\u001b[0m\u001b[0;34m:\u001b[0m\u001b[0;34m\u001b[0m\u001b[0;34m\u001b[0m\u001b[0m\n\u001b[1;32m    277\u001b[0m             \u001b[0mself\u001b[0m\u001b[0;34m.\u001b[0m\u001b[0m_post_plot_logic_common\u001b[0m\u001b[0;34m(\u001b[0m\u001b[0max\u001b[0m\u001b[0;34m,\u001b[0m \u001b[0mself\u001b[0m\u001b[0;34m.\u001b[0m\u001b[0mdata\u001b[0m\u001b[0;34m)\u001b[0m\u001b[0;34m\u001b[0m\u001b[0;34m\u001b[0m\u001b[0m\n\u001b[0;32m--> 278\u001b[0;31m             \u001b[0mself\u001b[0m\u001b[0;34m.\u001b[0m\u001b[0m_post_plot_logic\u001b[0m\u001b[0;34m(\u001b[0m\u001b[0max\u001b[0m\u001b[0;34m,\u001b[0m \u001b[0mself\u001b[0m\u001b[0;34m.\u001b[0m\u001b[0mdata\u001b[0m\u001b[0;34m)\u001b[0m\u001b[0;34m\u001b[0m\u001b[0;34m\u001b[0m\u001b[0m\n\u001b[0m\u001b[1;32m    279\u001b[0m \u001b[0;34m\u001b[0m\u001b[0m\n\u001b[1;32m    280\u001b[0m     \u001b[0;32mdef\u001b[0m \u001b[0m_args_adjust\u001b[0m\u001b[0;34m(\u001b[0m\u001b[0mself\u001b[0m\u001b[0;34m)\u001b[0m\u001b[0;34m:\u001b[0m\u001b[0;34m\u001b[0m\u001b[0;34m\u001b[0m\u001b[0m\n",
            "\u001b[0;32m/usr/local/lib/python3.6/dist-packages/pandas/plotting/_matplotlib/core.py\u001b[0m in \u001b[0;36m_post_plot_logic\u001b[0;34m(self, ax, data)\u001b[0m\n\u001b[1;32m   1459\u001b[0m         \u001b[0mname\u001b[0m \u001b[0;34m=\u001b[0m \u001b[0mself\u001b[0m\u001b[0;34m.\u001b[0m\u001b[0m_get_index_name\u001b[0m\u001b[0;34m(\u001b[0m\u001b[0;34m)\u001b[0m\u001b[0;34m\u001b[0m\u001b[0;34m\u001b[0m\u001b[0m\n\u001b[1;32m   1460\u001b[0m \u001b[0;34m\u001b[0m\u001b[0m\n\u001b[0;32m-> 1461\u001b[0;31m         \u001b[0ms_edge\u001b[0m \u001b[0;34m=\u001b[0m \u001b[0mself\u001b[0m\u001b[0;34m.\u001b[0m\u001b[0max_pos\u001b[0m\u001b[0;34m[\u001b[0m\u001b[0;36m0\u001b[0m\u001b[0;34m]\u001b[0m \u001b[0;34m-\u001b[0m \u001b[0;36m0.25\u001b[0m \u001b[0;34m+\u001b[0m \u001b[0mself\u001b[0m\u001b[0;34m.\u001b[0m\u001b[0mlim_offset\u001b[0m\u001b[0;34m\u001b[0m\u001b[0;34m\u001b[0m\u001b[0m\n\u001b[0m\u001b[1;32m   1462\u001b[0m         \u001b[0me_edge\u001b[0m \u001b[0;34m=\u001b[0m \u001b[0mself\u001b[0m\u001b[0;34m.\u001b[0m\u001b[0max_pos\u001b[0m\u001b[0;34m[\u001b[0m\u001b[0;34m-\u001b[0m\u001b[0;36m1\u001b[0m\u001b[0;34m]\u001b[0m \u001b[0;34m+\u001b[0m \u001b[0;36m0.25\u001b[0m \u001b[0;34m+\u001b[0m \u001b[0mself\u001b[0m\u001b[0;34m.\u001b[0m\u001b[0mbar_width\u001b[0m \u001b[0;34m+\u001b[0m \u001b[0mself\u001b[0m\u001b[0;34m.\u001b[0m\u001b[0mlim_offset\u001b[0m\u001b[0;34m\u001b[0m\u001b[0;34m\u001b[0m\u001b[0m\n\u001b[1;32m   1463\u001b[0m \u001b[0;34m\u001b[0m\u001b[0m\n",
            "\u001b[0;31mIndexError\u001b[0m: index 0 is out of bounds for axis 0 with size 0"
          ]
        },
        {
          "output_type": "display_data",
          "data": {
            "image/png": "[encoded data removed]",
            "text/plain": [
              "<Figure size 432x288 with 1 Axes>"
            ]
          },
          "metadata": {
            "tags": [],
            "needs_background": "light"
          }
        }
      ]
    },
    {
      "cell_type": "code",
      "metadata": {
        "id": "dlOogLlMNfRC"
      },
      "source": [
        "print(df[['Sex', 'Survived']].groupby(['Sex'], as_index=False).mean())\r\n",
        "ax = (df[['Sex', 'Survived']].groupby(['Sex'], as_index=True).mean()).plot.bar(\r\n",
        "    title = 'Survived by Gender')\r\n",
        "\r\n",
        "ax.set_ylabel('%')\r\n",
        "ax.set_xlabel('Gender')"
      ],
      "execution_count": null,
      "outputs": []
    },
    {
      "cell_type": "code",
      "metadata": {
        "id": "eQz7HBs_Nh1h"
      },
      "source": [
        "#FamilySize\r\n",
        "for dataset in df_full:\r\n",
        "  dataset['FamilySize'] = dataset['SibSp'] + dataset['Parch'] + 1"
      ],
      "execution_count": null,
      "outputs": []
    },
    {
      "cell_type": "code",
      "metadata": {
        "id": "f8GU2jRLNlBv"
      },
      "source": [
        "print(df[['FamilySize', 'Survived']].groupby(['FamilySize'], as_index=False).mean())\r\n",
        "ax = (df[['FamilySize', 'Survived']].groupby(['FamilySize'], as_index=True).mean()).plot.bar(\r\n",
        "    title = 'Survived by Family Members')\r\n",
        "\r\n",
        "ax.set_ylabel('%')\r\n",
        "ax.set_xlabel('Sum of Family Members')"
      ],
      "execution_count": null,
      "outputs": []
    },
    {
      "cell_type": "code",
      "metadata": {
        "id": "slKHB-WBNpKH"
      },
      "source": [
        "#isAlone\r\n",
        "for dataset in df_full:\r\n",
        "  dataset['isAlone'] = 0\r\n",
        "  dataset.loc[dataset['FamilySize']==1, 'isAlone'] = 1"
      ],
      "execution_count": null,
      "outputs": []
    },
    {
      "cell_type": "code",
      "metadata": {
        "id": "RSCFEIp7NrE6"
      },
      "source": [
        "print(df[['isAlone', 'Survived']].groupby(['isAlone'], as_index=False).mean())\r\n",
        "ax =(df[['isAlone', 'Survived']].groupby(['isAlone'], as_index=True).mean()).plot.bar(\r\n",
        "    title = 'Survived by isAlone')\r\n",
        "\r\n",
        "ax.set_ylabel('%')\r\n",
        "ax.set_xlabel('IsAlone')"
      ],
      "execution_count": null,
      "outputs": []
    },
    {
      "cell_type": "code",
      "metadata": {
        "id": "3luqbkYbNrvh"
      },
      "source": [
        "#Embarked\r\n",
        "for dataset in df_full:\r\n",
        "  # mode = dataset['Embarked'].mode()\r\n",
        "  dataset['Embarked'] = dataset['Embarked'].fillna('S')"
      ],
      "execution_count": null,
      "outputs": []
    },
    {
      "cell_type": "code",
      "metadata": {
        "id": "UUX1MrECNt8x"
      },
      "source": [
        "print(df[['Embarked', 'Survived']].groupby(['Embarked'], as_index=False).mean())\r\n",
        "ax = (df[['Embarked', 'Survived']].groupby(['Embarked'], as_index=True).mean()).plot.bar(\r\n",
        "    title = 'Survived by Embarked Port')\r\n",
        "\r\n",
        "ax.set_ylabel('%')\r\n",
        "ax.set_xlabel('Embarked Port')"
      ],
      "execution_count": null,
      "outputs": []
    },
    {
      "cell_type": "code",
      "metadata": {
        "id": "ut8phUlyNwBp"
      },
      "source": [
        "#Fare\r\n",
        "for dataset in df_full:\r\n",
        "  # mean = dataset['Fare'].mean()\r\n",
        "  dataset['Fare'] = dataset['Fare'].fillna(0)\r\n",
        "  dataset['CategoricalFare'] = pd.qcut(dataset['Fare'], 4)"
      ],
      "execution_count": null,
      "outputs": []
    },
    {
      "cell_type": "code",
      "metadata": {
        "id": "3-IC7sVBNyph"
      },
      "source": [
        "print(df[['CategoricalFare', 'Survived']].groupby(['CategoricalFare'], as_index=False).mean())\r\n",
        "ax=(df[['CategoricalFare', 'Survived']].groupby(['CategoricalFare'], as_index=True).mean()).plot.bar(\r\n",
        "    title = 'Survived by Categorical Fare')\r\n",
        "\r\n",
        "ax.set_ylabel('%')\r\n",
        "ax.set_xlabel('Categorical Fare')"
      ],
      "execution_count": null,
      "outputs": []
    },
    {
      "cell_type": "code",
      "metadata": {
        "id": "KPAC6UQjN0yg"
      },
      "source": [
        "#Age\r\n",
        "for dataset in df_full:\r\n",
        "    age_avg \t   = dataset['Age'].mean()\r\n",
        "    age_std \t   = dataset['Age'].std()\r\n",
        "    age_null_count = dataset['Age'].isnull().sum()\r\n",
        "    \r\n",
        "    age_null_random_list = np.random.randint(age_avg - age_std, age_avg + age_std, size=age_null_count)\r\n",
        "    dataset['Age'][np.isnan(dataset['Age'])] = age_null_random_list\r\n",
        "    dataset['Age'] = dataset['Age'].astype(int)\r\n",
        "    dataset['CategoricalAge'] = pd.cut(dataset['Age'], 5)"
      ],
      "execution_count": null,
      "outputs": []
    },
    {
      "cell_type": "code",
      "metadata": {
        "id": "Uk4yEf7wN4Xo"
      },
      "source": [
        "print(df[['CategoricalAge', 'Survived']].groupby(['CategoricalAge'], as_index=False).mean())\r\n",
        "\r\n",
        "ax = (df[['CategoricalAge', 'Survived']].groupby(['CategoricalAge'], as_index=True).mean()).plot.bar(\r\n",
        "    title = 'Survived by Categorical Age')\r\n",
        "\r\n",
        "ax.set_ylabel('%')\r\n",
        "ax.set_xlabel('Categorical Age')"
      ],
      "execution_count": null,
      "outputs": []
    },
    {
      "cell_type": "code",
      "metadata": {
        "id": "wTkMPik1N6Np"
      },
      "source": [
        "#Name\r\n",
        "def get_title(name):\r\n",
        "\ttitle_search = re.search(' ([A-Za-z]+)\\.', name)\r\n",
        "\tif title_search:\r\n",
        "\t\treturn title_search.group(1)\r\n",
        "\treturn \"\"\r\n",
        "\r\n",
        "for dataset in df_full:\r\n",
        "    dataset['Title'] = dataset['Name'].apply(get_title)\r\n",
        "\r\n",
        "print(pd.crosstab(df['Title'], df['Sex']))"
      ],
      "execution_count": null,
      "outputs": []
    },
    {
      "cell_type": "code",
      "metadata": {
        "id": "w0hygBbdN9JH"
      },
      "source": [
        "for dataset in df_full:\r\n",
        "    dataset['Title'] = dataset['Title'].replace(['Lady', 'Countess','Capt', 'Col',\\\r\n",
        " \t'Don', 'Dr', 'Major', 'Rev', 'Sir', 'Jonkheer', 'Dona'], 'Rare')\r\n",
        "\r\n",
        "    dataset['Title'] = dataset['Title'].replace('Mlle', 'Miss')\r\n",
        "    dataset['Title'] = dataset['Title'].replace('Ms', 'Miss')\r\n",
        "    dataset['Title'] = dataset['Title'].replace('Mme', 'Mrs')\r\n",
        "\r\n",
        "print (df[['Title', 'Survived']].groupby(['Title'], as_index=False).mean())\r\n",
        "ax =(df[['Title', 'Survived']].groupby(['Title'], as_index=True).mean()).plot.bar(\r\n",
        "    title = 'Survived by Title')\r\n",
        "\r\n",
        "ax.set_ylabel('%')\r\n",
        "ax.set_xlabel('Title')"
      ],
      "execution_count": null,
      "outputs": []
    },
    {
      "cell_type": "code",
      "metadata": {
        "id": "CVgQ-Uk6OCAM"
      },
      "source": [
        "df"
      ],
      "execution_count": null,
      "outputs": []
    },
    {
      "cell_type": "code",
      "metadata": {
        "id": "Jabpa0QZOChh"
      },
      "source": [
        "df_test"
      ],
      "execution_count": null,
      "outputs": []
    },
    {
      "cell_type": "code",
      "metadata": {
        "id": "r1C_rdgxOEtt"
      },
      "source": [
        "for dataset in df_full:\r\n",
        "    # Mapping Sex\r\n",
        "    dataset['Sex'] = dataset['Sex'].map( {'female': 0, 'male': 1} )\r\n",
        "    \r\n",
        "    # Mapping titles\r\n",
        "    title_mapping = {\"Mr\": 1, \"Miss\": 2, \"Mrs\": 3, \"Master\": 4, \"Rare\": 5}\r\n",
        "    dataset['Title'] = dataset['Title'].map(title_mapping)\r\n",
        "    dataset['Title'] = dataset['Title'].fillna(0)\r\n",
        "    \r\n",
        "    # Mapping Embarked\r\n",
        "    dataset['Embarked'] = dataset['Embarked'].map( {'S': 0, 'C': 1, 'Q': 2} )\r\n",
        "    \r\n",
        "    # Mapping Fare\r\n",
        "    dataset.loc[ dataset['Fare'] <= 7.91, 'Fare'] \t\t\t\t\t\t                  = 0\r\n",
        "    dataset.loc[(dataset['Fare'] > 7.91) & (dataset['Fare'] <= 14.454), 'Fare'] = 1\r\n",
        "    dataset.loc[(dataset['Fare'] > 14.454) & (dataset['Fare'] <= 31), 'Fare']   = 2\r\n",
        "    dataset.loc[ dataset['Fare'] > 31, 'Fare'] \t\t\t\t\t\t\t                    = 3\r\n",
        "    dataset['Fare'] = dataset['Fare'].astype(int)\r\n",
        "    \r\n",
        "    # Mapping Age\r\n",
        "    dataset.loc[ dataset['Age'] <= 16, 'Age'] \t\t\t\t\t               = 0\r\n",
        "    dataset.loc[(dataset['Age'] > 16) & (dataset['Age'] <= 32), 'Age'] = 1\r\n",
        "    dataset.loc[(dataset['Age'] > 32) & (dataset['Age'] <= 48), 'Age'] = 2\r\n",
        "    dataset.loc[(dataset['Age'] > 48) & (dataset['Age'] <= 64), 'Age'] = 3\r\n",
        "    dataset.loc[ dataset['Age'] > 64, 'Age']                           = 4\r\n",
        "\r\n",
        "# Feature Selection\r\n",
        "drop_elements = ['PassengerId', 'Name', 'Ticket', 'Cabin', 'SibSp',\\\r\n",
        "                 'Parch', 'FamilySize']\r\n",
        "df = df.drop(drop_elements, axis = 1)\r\n",
        "df = df.drop(['CategoricalAge', 'CategoricalFare'], axis = 1)\r\n",
        "\r\n",
        "df_test  = df_test.drop(drop_elements, axis = 1)\r\n",
        "df_test = df_test.drop(['CategoricalAge', 'CategoricalFare'], axis = 1)\r\n",
        "\r\n",
        "print(df.head(10))\r\n",
        "\r\n",
        "train = df.values\r\n",
        "test  = df_test.values"
      ],
      "execution_count": null,
      "outputs": []
    },
    {
      "cell_type": "code",
      "metadata": {
        "id": "EcohxWABONDO"
      },
      "source": [
        "np.nan in df"
      ],
      "execution_count": null,
      "outputs": []
    },
    {
      "cell_type": "code",
      "metadata": {
        "id": "HEdvu5rjOOuk"
      },
      "source": [
        "#df.to_csv('df.csv', index=False)"
      ],
      "execution_count": null,
      "outputs": []
    },
    {
      "cell_type": "code",
      "metadata": {
        "id": "H6pKUb6MOTI8"
      },
      "source": [
        "#Data Preprocessing\r\n",
        "#Train and evaluate\r\n",
        "classifiers = [\r\n",
        "    KNeighborsClassifier(3),\r\n",
        "    SVC(probability=True),\r\n",
        "    DecisionTreeClassifier(),\r\n",
        "    RandomForestClassifier(),\r\n",
        "\t  AdaBoostClassifier(),\r\n",
        "    GradientBoostingClassifier(),\r\n",
        "    GaussianNB(),\r\n",
        "    LinearDiscriminantAnalysis(),\r\n",
        "    QuadraticDiscriminantAnalysis(),\r\n",
        "    LogisticRegression()]\r\n",
        "\r\n",
        "log_cols = [\"Classifier\", \"Accuracy\"]\r\n",
        "log \t = pd.DataFrame(columns=log_cols)\r\n",
        "\r\n",
        "# sss = StratifiedShuffleSplit(n_splits=10, test_size=0.1, random_state=0)\r\n",
        "\r\n",
        "X = df.iloc[:, 1:]\r\n",
        "y = df.iloc[:, 0]\r\n",
        "\r\n",
        "acc_dict = {}\r\n",
        "\r\n",
        "# for train_index, test_index in sss.split(X, y):\r\n",
        "# \tX_train, X_test = X[train_index], X[test_index]\r\n",
        "# \ty_train, y_test = y[train_index], y[test_index]\r\n",
        "X_train, X_test, y_train, y_test = train_test_split(X, y, test_size=.2, random_state=0)\r\n",
        "\t\r\n",
        "for clf in classifiers:\r\n",
        "\tname = clf.__class__.__name__\r\n",
        "\tclf.fit(X_train, y_train)\r\n",
        "\ttrain_predictions = clf.predict(X_test)\r\n",
        "\tacc = accuracy_score(y_test, train_predictions)\r\n",
        "\tif name in acc_dict:\r\n",
        "\t\tacc_dict[name] += acc\r\n",
        "\telse:\r\n",
        "\t\tacc_dict[name] = acc\r\n",
        "\r\n",
        "for clf in acc_dict:\r\n",
        "\tacc_dict[clf] = acc_dict[clf]\r\n",
        "\tlog_entry = pd.DataFrame([[clf, acc_dict[clf]]], columns=log_cols)\r\n",
        "\tlog = log.append(log_entry)\r\n",
        "\r\n",
        "plt.xlabel('Accuracy')\r\n",
        "plt.title('Classifier Accuracy')\r\n",
        "\r\n",
        "sns.set_color_codes(\"muted\")\r\n",
        "sns.barplot(x='Accuracy', y='Classifier', data=log, color=\"b\")"
      ],
      "execution_count": null,
      "outputs": []
    },
    {
      "cell_type": "code",
      "metadata": {
        "id": "_JAkw_KyObpx"
      },
      "source": [
        "np.isnan(df.any())"
      ],
      "execution_count": null,
      "outputs": []
    },
    {
      "cell_type": "code",
      "metadata": {
        "id": "vSarca0qOdxj"
      },
      "source": [
        "#Hyperparameter Tuning\r\n",
        "\r\n",
        "knn = KNeighborsClassifier()\r\n",
        "\r\n",
        "param_grid = {'n_neighbors':np.arange(5,60), 'weights':['uniform', 'distance']}\r\n",
        "gscv = GridSearchCV(knn, param_grid=param_grid, cv=5, scoring='roc_auc')\r\n",
        "\r\n",
        "gscv.fit(X_train, y_train)"
      ],
      "execution_count": null,
      "outputs": []
    },
    {
      "cell_type": "code",
      "metadata": {
        "id": "ECPHi1V2OiRs"
      },
      "source": [
        "gscv.best_params_"
      ],
      "execution_count": null,
      "outputs": []
    },
    {
      "cell_type": "code",
      "metadata": {
        "id": "MATf_odbOlG5"
      },
      "source": [
        "knn = KNeighborsClassifier(n_neighbors= 15, weights= 'uniform')\r\n",
        "knn.fit(X, y)\r\n",
        "df_test = df_test.fillna(0)\r\n",
        "y_pred = knn.predict(df_test)"
      ],
      "execution_count": null,
      "outputs": []
    },
    {
      "cell_type": "code",
      "metadata": {
        "id": "o_wDhwnfOnPX"
      },
      "source": [
        "df_test.head()"
      ],
      "execution_count": null,
      "outputs": []
    },
    {
      "cell_type": "code",
      "metadata": {
        "id": "QPCLTsqYOpP6"
      },
      "source": [
        "#Decision Tree Classifier\r\n",
        "\r\n",
        "DTC = DecisionTreeClassifier()\r\n",
        "DTC.fit(X, y)\r\n",
        "df_test = df_test.fillna(0)\r\n",
        "y_pred = DTC.predict(df_test)"
      ],
      "execution_count": null,
      "outputs": []
    },
    {
      "cell_type": "code",
      "metadata": {
        "id": "oKVJmSe1Ourj"
      },
      "source": [
        "df_test"
      ],
      "execution_count": null,
      "outputs": []
    },
    {
      "cell_type": "code",
      "metadata": {
        "id": "_D3ScZZ6OwUB"
      },
      "source": [
        "df_test['prediction'] = y_pred"
      ],
      "execution_count": null,
      "outputs": []
    },
    {
      "cell_type": "code",
      "metadata": {
        "id": "4SpHw-4BOx-O"
      },
      "source": [
        "df_test"
      ],
      "execution_count": null,
      "outputs": []
    },
    {
      "cell_type": "code",
      "metadata": {
        "id": "y8f0tx-1O3m3"
      },
      "source": [
        "df_test.to_csv('hasil_prediksi_test_titanic.csv', index=False)"
      ],
      "execution_count": null,
      "outputs": []
    }
  ]
}